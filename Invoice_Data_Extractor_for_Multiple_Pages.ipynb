{
  "nbformat": 4,
  "nbformat_minor": 0,
  "metadata": {
    "colab": {
      "provenance": [],
      "authorship_tag": "ABX9TyMZ7NDk6M5dCQfYCKVmxcYB",
      "include_colab_link": true
    },
    "kernelspec": {
      "name": "python3",
      "display_name": "Python 3"
    },
    "language_info": {
      "name": "python"
    }
  },
  "cells": [
    {
      "cell_type": "markdown",
      "metadata": {
        "id": "view-in-github",
        "colab_type": "text"
      },
      "source": [
        "<a href=\"https://colab.research.google.com/github/saish23/Deep-Learning-Projects-/blob/main/Invoice_Data_Extractor_for_Multiple_Pages.ipynb\" target=\"_parent\"><img src=\"https://colab.research.google.com/assets/colab-badge.svg\" alt=\"Open In Colab\"/></a>"
      ]
    },
    {
      "cell_type": "code",
      "source": [
        "!sudo apt-get install -y tesseract-ocr\n",
        "!pip install pytesseract"
      ],
      "metadata": {
        "colab": {
          "base_uri": "https://localhost:8080/"
        },
        "id": "qRs-TrWOrLUN",
        "outputId": "1486deb1-719b-4914-f4ac-8d6190f72302"
      },
      "execution_count": null,
      "outputs": [
        {
          "output_type": "stream",
          "name": "stdout",
          "text": [
            "Reading package lists... Done\n",
            "Building dependency tree... Done\n",
            "Reading state information... Done\n",
            "The following additional packages will be installed:\n",
            "  tesseract-ocr-eng tesseract-ocr-osd\n",
            "The following NEW packages will be installed:\n",
            "  tesseract-ocr tesseract-ocr-eng tesseract-ocr-osd\n",
            "0 upgraded, 3 newly installed, 0 to remove and 16 not upgraded.\n",
            "Need to get 4,816 kB of archives.\n",
            "After this operation, 15.6 MB of additional disk space will be used.\n",
            "Get:1 http://archive.ubuntu.com/ubuntu jammy/universe amd64 tesseract-ocr-eng all 1:4.00~git30-7274cfa-1.1 [1,591 kB]\n",
            "Get:2 http://archive.ubuntu.com/ubuntu jammy/universe amd64 tesseract-ocr-osd all 1:4.00~git30-7274cfa-1.1 [2,990 kB]\n",
            "Get:3 http://archive.ubuntu.com/ubuntu jammy/universe amd64 tesseract-ocr amd64 4.1.1-2.1build1 [236 kB]\n",
            "Fetched 4,816 kB in 1s (4,024 kB/s)\n",
            "debconf: unable to initialize frontend: Dialog\n",
            "debconf: (No usable dialog-like program is installed, so the dialog based frontend cannot be used. at /usr/share/perl5/Debconf/FrontEnd/Dialog.pm line 78, <> line 3.)\n",
            "debconf: falling back to frontend: Readline\n",
            "debconf: unable to initialize frontend: Readline\n",
            "debconf: (This frontend requires a controlling tty.)\n",
            "debconf: falling back to frontend: Teletype\n",
            "dpkg-preconfigure: unable to re-open stdin: \n",
            "Selecting previously unselected package tesseract-ocr-eng.\n",
            "(Reading database ... 120828 files and directories currently installed.)\n",
            "Preparing to unpack .../tesseract-ocr-eng_1%3a4.00~git30-7274cfa-1.1_all.deb ...\n",
            "Unpacking tesseract-ocr-eng (1:4.00~git30-7274cfa-1.1) ...\n",
            "Selecting previously unselected package tesseract-ocr-osd.\n",
            "Preparing to unpack .../tesseract-ocr-osd_1%3a4.00~git30-7274cfa-1.1_all.deb ...\n",
            "Unpacking tesseract-ocr-osd (1:4.00~git30-7274cfa-1.1) ...\n",
            "Selecting previously unselected package tesseract-ocr.\n",
            "Preparing to unpack .../tesseract-ocr_4.1.1-2.1build1_amd64.deb ...\n",
            "Unpacking tesseract-ocr (4.1.1-2.1build1) ...\n",
            "Setting up tesseract-ocr-eng (1:4.00~git30-7274cfa-1.1) ...\n",
            "Setting up tesseract-ocr-osd (1:4.00~git30-7274cfa-1.1) ...\n",
            "Setting up tesseract-ocr (4.1.1-2.1build1) ...\n",
            "Processing triggers for man-db (2.10.2-1) ...\n",
            "Requirement already satisfied: pytesseract in /usr/local/lib/python3.10/dist-packages (0.3.10)\n",
            "Requirement already satisfied: packaging>=21.3 in /usr/local/lib/python3.10/dist-packages (from pytesseract) (23.1)\n",
            "Requirement already satisfied: Pillow>=8.0.0 in /usr/local/lib/python3.10/dist-packages (from pytesseract) (9.4.0)\n"
          ]
        }
      ]
    },
    {
      "cell_type": "code",
      "source": [
        "!sudo apt-get install -y tesseract-ocr\n",
        "!pip install pytesseract\n",
        "\n",
        "import cv2\n",
        "import pytesseract\n",
        "import json\n",
        "import os\n",
        "import numpy as np\n",
        "import re\n",
        "from tabulate import tabulate\n",
        "\n",
        "# Specify the paths to the folders\n",
        "image_folder = \"/content/IMP\"\n",
        "output_folder = \"/content/OUT\"\n",
        "\n",
        "# Create the output folder if it doesn't exist\n",
        "if not os.path.exists(output_folder):\n",
        "    os.makedirs(output_folder)\n",
        "\n",
        "# Initialize Tesseract OCR\n",
        "pytesseract.pytesseract.tesseract_cmd = '/usr/bin/tesseract'\n",
        "\n",
        "# Define regular expressions for pattern matching\n",
        "invoice_number_pattern = r\"Invoice (\\d+)\"\n",
        "invoice_date_pattern = r\"Date (\\d{2}/\\d{2}/\\d{4})\"\n",
        "gst_number_pattern = r\"GST Number: ([\\w\\d-]+)\"\n",
        "vendor_name_pattern = r\"Vendor Name: (.+)\"\n",
        "vendor_address_pattern = r\"Vendor Address: (.+)\"\n",
        "delivery_address_pattern = r\"Delivery Address: (.+)\"\n",
        "buyer_name_pattern = r\"Buyer Name: (.+)\"\n",
        "buyer_address_pattern = r\"Buyer Address: (.+)\"\n",
        "item_details_pattern = r\"(\\d+)\\.\\s(.+)\\s\\$(\\d+\\.\\d+)\\s(\\d+)\\s\\$(\\d+\\.\\d+)\"\n",
        "total_invoice_amount_pattern = r\"Subtotal: (\\d+\\.\\d+)\"\n",
        "total_tax_amount_pattern = r\"Tax rate: (\\d+\\.\\d+)%\"\n",
        "po_number_pattern = r\"PO Number: (\\d+)\"\n",
        "\n",
        "# Define regular expression for extracting tabular data\n",
        "tabular_data_pattern = r\"(\\d+)\\s+(.+)\\s+(\\d+\\.\\d+)\\s+(\\d+)\\s+(\\d+\\.\\d+)\"\n",
        "\n",
        "# Iterate through each file in the image folder\n",
        "for filename in os.listdir(image_folder):\n",
        "    if filename.lower().endswith(\".jpg\"):\n",
        "        image_path = os.path.join(image_folder, filename)\n",
        "\n",
        "        # Load and preprocess the image\n",
        "        image = cv2.imread(image_path)\n",
        "        gray = cv2.cvtColor(image, cv2.COLOR_BGR2GRAY)\n",
        "        _, thresholded = cv2.threshold(gray, 0, 255, cv2.THRESH_BINARY + cv2.THRESH_OTSU)\n",
        "\n",
        "        # Extract text from image using OCR\n",
        "        extracted_text = pytesseract.image_to_string(thresholded)\n",
        "\n",
        "        # Extract tabular data using tabulate\n",
        "        tabular_data_matches = re.findall(tabular_data_pattern, extracted_text, re.MULTILINE)\n",
        "\n",
        "        # Process tabular data using tabulate\n",
        "        tabular_data_headers = [\"Product Description\", \"Price\", \"Quantity\", \"Total\"]\n",
        "        tabular_data = [tabular_data_headers] + tabular_data_matches\n",
        "\n",
        "        # Convert tabular data to a formatted table string\n",
        "        tabular_table = tabulate(tabular_data, headers=\"firstrow\", tablefmt=\"grid\")\n",
        "\n",
        "        # Extract data using regular expressions\n",
        "        invoice_number_match = re.search(invoice_number_pattern, extracted_text)\n",
        "        invoice_date_match = re.search(invoice_date_pattern, extracted_text)\n",
        "        gst_number_match = re.search(gst_number_pattern, extracted_text)\n",
        "        vendor_name_match = re.search(vendor_name_pattern, extracted_text)\n",
        "        vendor_address_match = re.search(vendor_address_pattern, extracted_text)\n",
        "        delivery_address_match = re.search(delivery_address_pattern, extracted_text)\n",
        "        buyer_name_match = re.search(buyer_name_pattern, extracted_text)\n",
        "        buyer_address_match = re.search(buyer_address_pattern, extracted_text)\n",
        "        item_details_matches = re.findall(item_details_pattern, extracted_text)\n",
        "        total_invoice_amount_match = re.search(total_invoice_amount_pattern, extracted_text)\n",
        "        total_tax_amount_match = re.search(total_tax_amount_pattern, extracted_text)\n",
        "        po_number_match = re.search(po_number_pattern, extracted_text)\n",
        "\n",
        "        # Check if matches were found before accessing groups\n",
        "        invoice_number = invoice_number_match.group(1) if invoice_number_match else None\n",
        "        invoice_date = invoice_date_match.group(1) if invoice_date_match else None\n",
        "        gst_number = gst_number_match.group(1) if gst_number_match else None\n",
        "        vendor_name = vendor_name_match.group(1) if vendor_name_match else None\n",
        "        vendor_address = vendor_address_match.group(1) if vendor_address_match else None\n",
        "        delivery_address = delivery_address_match.group(1) if delivery_address_match else None\n",
        "        buyer_name = buyer_name_match.group(1) if buyer_name_match else None\n",
        "        buyer_address = buyer_address_match.group(1) if buyer_address_match else None\n",
        "        total_invoice_amount = total_invoice_amount_match.group(1) if total_invoice_amount_match else None\n",
        "        total_tax_amount = total_tax_amount_match.group(1) if total_tax_amount_match else None\n",
        "        po_number = po_number_match.group(1) if po_number_match else None\n",
        "\n",
        "        # Organize extracted data into a dictionary\n",
        "        data_dict = {\n",
        "            \"invoice_number\": invoice_number,\n",
        "            \"invoice_date\": invoice_date,\n",
        "            \"gst_number\": gst_number,\n",
        "            \"vendor_name\": vendor_name,\n",
        "            \"vendor_address\": vendor_address,\n",
        "            \"delivery_address\": delivery_address,\n",
        "            \"buyer_name\": buyer_name,\n",
        "            \"buyer_address\": buyer_address,\n",
        "            \"item_details\": item_details_matches,\n",
        "            \"total_invoice_amount\": total_invoice_amount,\n",
        "            \"total_tax_amount\": total_tax_amount,\n",
        "            \"po_number\": po_number,\n",
        "            \"extracted_text\": extracted_text,\n",
        "            \"tabular_data\": tabular_table,\n",
        "\n",
        "            # Add other extracted data here\n",
        "        }\n",
        "\n",
        "        # Serialize data to JSON and save to a file\n",
        "        output_filename = os.path.join(output_folder, filename.replace(\".jpg\", \".json\"))\n",
        "        json_output = json.dumps(data_dict, indent=4)\n",
        "        with open(output_filename, 'w') as json_file:\n",
        "            json_file.write(json_output)\n"
      ],
      "metadata": {
        "id": "R5UZ9ntM7Boz",
        "colab": {
          "base_uri": "https://localhost:8080/"
        },
        "outputId": "a1af77fb-006d-45b7-97d2-e2fe4bfdc461"
      },
      "execution_count": 15,
      "outputs": [
        {
          "output_type": "stream",
          "name": "stdout",
          "text": [
            "Reading package lists... Done\n",
            "Building dependency tree... Done\n",
            "Reading state information... Done\n",
            "tesseract-ocr is already the newest version (4.1.1-2.1build1).\n",
            "0 upgraded, 0 newly installed, 0 to remove and 16 not upgraded.\n",
            "Requirement already satisfied: pytesseract in /usr/local/lib/python3.10/dist-packages (0.3.10)\n",
            "Requirement already satisfied: packaging>=21.3 in /usr/local/lib/python3.10/dist-packages (from pytesseract) (23.1)\n",
            "Requirement already satisfied: Pillow>=8.0.0 in /usr/local/lib/python3.10/dist-packages (from pytesseract) (9.4.0)\n"
          ]
        }
      ]
    },
    {
      "cell_type": "code",
      "source": [
        "extracted_text"
      ],
      "metadata": {
        "colab": {
          "base_uri": "https://localhost:8080/",
          "height": 105
        },
        "id": "nraBk7Gkyg43",
        "outputId": "56501627-ee4f-417d-b188-20564d7f2e97"
      },
      "execution_count": 18,
      "outputs": [
        {
          "output_type": "execute_result",
          "data": {
            "text/plain": [
              "'WAG srand Name\\nee TNVOIC\\n\\nInvoice to:\\n\\nDayanne $.Clone Invoice 05987\\n6~ Unknown Street Date 94/01/2019\\nLocation, Lorem Ipsum\\n\\n12345678-B\\n\\n   \\n\\n \\n\\n \\n\\n \\n\\nets Total\\n1. Product Name $50.00 4 $ 200.00\\n1, Product Name $ 10.00 1 $ 10.00\\n1. Product Name $25.00 3 $75.00\\nProduct Name 3 30.08 2 $ 60.00\\nProduct Name $ 40.00 5 $ 200.00\\nSubtotal: 5 545.00\\nTax rate: 0.00%\\nTOTAL 545.00\\nThank you for you business\\nTerms & Conditions Payment. info\\nSimply dunmy text of the printing Simply dunny text of the printing\\n\\nand typesetting industry. and typesetting industry.\\n\\x0c'"
            ],
            "application/vnd.google.colaboratory.intrinsic+json": {
              "type": "string"
            }
          },
          "metadata": {},
          "execution_count": 18
        }
      ]
    },
    {
      "cell_type": "code",
      "source": [
        "data_dict"
      ],
      "metadata": {
        "colab": {
          "base_uri": "https://localhost:8080/"
        },
        "id": "w9FZQyfF8H_N",
        "outputId": "9a7a6076-100f-4220-cc70-3cc09072c966"
      },
      "execution_count": 16,
      "outputs": [
        {
          "output_type": "execute_result",
          "data": {
            "text/plain": [
              "{'invoice_number': '05987',\n",
              " 'invoice_date': '94/01/2019',\n",
              " 'gst_number': None,\n",
              " 'vendor_name': None,\n",
              " 'vendor_address': None,\n",
              " 'delivery_address': None,\n",
              " 'buyer_name': None,\n",
              " 'buyer_address': None,\n",
              " 'item_details': [('1', 'Product Name', '25.00', '3', '75.00')],\n",
              " 'total_invoice_amount': None,\n",
              " 'total_tax_amount': '0.00',\n",
              " 'po_number': None,\n",
              " 'extracted_text': 'WAG srand Name\\nee TNVOIC\\n\\nInvoice to:\\n\\nDayanne $.Clone Invoice 05987\\n6~ Unknown Street Date 94/01/2019\\nLocation, Lorem Ipsum\\n\\n12345678-B\\n\\n   \\n\\n \\n\\n \\n\\n \\n\\nets Total\\n1. Product Name $50.00 4 $ 200.00\\n1, Product Name $ 10.00 1 $ 10.00\\n1. Product Name $25.00 3 $75.00\\nProduct Name 3 30.08 2 $ 60.00\\nProduct Name $ 40.00 5 $ 200.00\\nSubtotal: 5 545.00\\nTax rate: 0.00%\\nTOTAL 545.00\\nThank you for you business\\nTerms & Conditions Payment. info\\nSimply dunmy text of the printing Simply dunny text of the printing\\n\\nand typesetting industry. and typesetting industry.\\n\\x0c',\n",
              " 'tabular_data': '+-----------------------+---------+------------+---------+\\n| Product Description   | Price   | Quantity   | Total   |\\n+=======================+=========+============+=========+\\n+-----------------------+---------+------------+---------+'}"
            ]
          },
          "metadata": {},
          "execution_count": 16
        }
      ]
    },
    {
      "cell_type": "code",
      "source": [
        "# Print the saved JSON file\n",
        "print(f\"Saved JSON file: {output_filename}\")\n",
        "\n",
        "# Read and print the contents of the saved JSON file\n",
        "with open(output_filename, 'r') as json_file:\n",
        "    saved_json_contents = json_file.read()\n",
        "    print(saved_json_contents)"
      ],
      "metadata": {
        "colab": {
          "base_uri": "https://localhost:8080/"
        },
        "id": "QI7YI7ADx5aX",
        "outputId": "d3627303-afe8-4e32-859a-cbfa6c5ce3c8"
      },
      "execution_count": 17,
      "outputs": [
        {
          "output_type": "stream",
          "name": "stdout",
          "text": [
            "Saved JSON file: /content/OUT/2019042512-invoice-template-red.json-840.json\n",
            "{\n",
            "    \"invoice_number\": \"05987\",\n",
            "    \"invoice_date\": \"94/01/2019\",\n",
            "    \"gst_number\": null,\n",
            "    \"vendor_name\": null,\n",
            "    \"vendor_address\": null,\n",
            "    \"delivery_address\": null,\n",
            "    \"buyer_name\": null,\n",
            "    \"buyer_address\": null,\n",
            "    \"item_details\": [\n",
            "        [\n",
            "            \"1\",\n",
            "            \"Product Name\",\n",
            "            \"25.00\",\n",
            "            \"3\",\n",
            "            \"75.00\"\n",
            "        ]\n",
            "    ],\n",
            "    \"total_invoice_amount\": null,\n",
            "    \"total_tax_amount\": \"0.00\",\n",
            "    \"po_number\": null,\n",
            "    \"extracted_text\": \"WAG srand Name\\nee TNVOIC\\n\\nInvoice to:\\n\\nDayanne $.Clone Invoice 05987\\n6~ Unknown Street Date 94/01/2019\\nLocation, Lorem Ipsum\\n\\n12345678-B\\n\\n   \\n\\n \\n\\n \\n\\n \\n\\nets Total\\n1. Product Name $50.00 4 $ 200.00\\n1, Product Name $ 10.00 1 $ 10.00\\n1. Product Name $25.00 3 $75.00\\nProduct Name 3 30.08 2 $ 60.00\\nProduct Name $ 40.00 5 $ 200.00\\nSubtotal: 5 545.00\\nTax rate: 0.00%\\nTOTAL 545.00\\nThank you for you business\\nTerms & Conditions Payment. info\\nSimply dunmy text of the printing Simply dunny text of the printing\\n\\nand typesetting industry. and typesetting industry.\\n\\f\",\n",
            "    \"tabular_data\": \"+-----------------------+---------+------------+---------+\\n| Product Description   | Price   | Quantity   | Total   |\\n+=======================+=========+============+=========+\\n+-----------------------+---------+------------+---------+\"\n",
            "}\n"
          ]
        }
      ]
    }
  ]
}